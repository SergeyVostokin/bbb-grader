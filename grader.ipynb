{
 "cells": [
  {
   "cell_type": "code",
   "execution_count": 1,
   "id": "f7fe9e59",
   "metadata": {
    "pycharm": {
     "name": "#%%\n"
    }
   },
   "outputs": [],
   "source": [
    "import packageForGoogleSheet as sheet"
   ]
  },
  {
   "cell_type": "markdown",
   "id": "d666d960-237c-4f32-b15d-8530f610d509",
   "metadata": {
    "pycharm": {
     "name": "#%% md\n"
    }
   },
   "source": [
    "**Шаг 1.** Скопируйте список группы в файл ***\"список группы.txt\"*** "
   ]
  },
  {
   "cell_type": "markdown",
   "id": "75dfa584-326b-48ba-8aae-f6381db358f6",
   "metadata": {
    "pycharm": {
     "name": "#%% md\n"
    }
   },
   "source": [
    "**Шаг 2.** Скопируйте список присутсвующих в файл ***\"список присутсвующих.txt\"***"
   ]
  },
  {
   "cell_type": "markdown",
   "id": "f362f96e-1770-4d19-9b42-1d978917ab17",
   "metadata": {
    "pycharm": {
     "name": "#%% md\n"
    }
   },
   "source": [
    "**Шаг 3.** Вывести *распознанные пары* вида ***\"ФИО в списке группы\" -- \"ФИО в списе присутсвующих\"***   "
   ]
  },
  {
   "cell_type": "code",
   "execution_count": 8,
   "id": "c2d86649-474c-4e2a-ba06-46834a3a8f49",
   "metadata": {
    "pycharm": {
     "name": "#%%\n"
    }
   },
   "outputs": [],
   "source": [
    "# код для вывода пар \"ФИО в списке группы\" -- \"ФИО в списе присутсвующих\""
   ]
  },
  {
   "cell_type": "markdown",
   "id": "b17f2e93-b3f0-4c1a-8231-12b0bfad83e0",
   "metadata": {
    "pycharm": {
     "name": "#%% md\n"
    }
   },
   "source": [
    "**Шаг 4.** Вывести *нераспознанные* записи ***\"ФИО в списе присутсвующих\"***   "
   ]
  },
  {
   "cell_type": "code",
   "execution_count": 9,
   "id": "98d7d200-c8ca-4ce8-9fc3-19bb881fc049",
   "metadata": {
    "pycharm": {
     "name": "#%%\n"
    }
   },
   "outputs": [],
   "source": [
    "# код для вывода пар \"ФИО в списке группы\" -- \"ФИО в списе присутсвующих\""
   ]
  },
  {
   "cell_type": "markdown",
   "id": "9aca9c61-d614-4c5a-b1a7-b77a21d12ceb",
   "metadata": {
    "pycharm": {
     "name": "#%% md\n"
    }
   },
   "source": [
    "**Шаг 5.** Внести ручные коррективы в список присутсвующих, повторить **шаги 3,4** "
   ]
  },
  {
   "cell_type": "markdown",
   "id": "4339571f-6df4-483c-bf5e-716b3f51146a",
   "metadata": {
    "pycharm": {
     "name": "#%% md\n"
    }
   },
   "source": [
    "**Шаг 6.** Вывести столбик из отметок **\\*** для ручного копирования в электронную таблицу"
   ]
  },
  {
   "cell_type": "code",
   "execution_count": 10,
   "id": "ef865ec7-a2e4-4777-835d-bcf0ffc93ca8",
   "metadata": {
    "pycharm": {
     "name": "#%%\n"
    }
   },
   "outputs": [],
   "source": [
    "# код для формирования \"столбика\" из *"
   ]
  },
  {
   "cell_type": "code",
   "execution_count": null,
   "id": "d6c8f732",
   "metadata": {
    "pycharm": {
     "name": "#%%\n"
    }
   },
   "outputs": [],
   "source": []
  },
  {
   "cell_type": "markdown",
   "id": "25ffde8f",
   "metadata": {
    "pycharm": {
     "name": "#%% md\n"
    }
   },
   "source": [
    "**Шаг 6** (новый). Изменить название файла отметок, название таблицы и текст ячейки-заголовка для автоматического заполнения таблицы отметок"
   ]
  },
  {
   "cell_type": "code",
   "execution_count": 3,
   "id": "f510b82f",
   "metadata": {
    "pycharm": {
     "name": "#%%\n"
    },
    "scrolled": false
   },
   "outputs": [],
   "source": [
    "sheet.updateTableDate(\"Л10\", \"Тестовый ввод\", \"awesome-delight-371517-2deba832a677.json\", \"testStars.txt\", \"testStars.txt\")\n",
    "#sheet.restoreBackUp(\"Л10\", \"Тестовый ввод\", \"awesome-delight-371517-2deba832a677.json\", \"backup.txt\")"
   ]
  },
  {
   "cell_type": "markdown",
   "id": "ac122b9d-50cf-4d2f-bb88-948b79f9d4d3",
   "metadata": {
    "pycharm": {
     "name": "#%% md\n"
    }
   },
   "source": [
    "**Шаг 7**. Вывести список из пар: отметка  **\\[+\\]** или **\\[o\\]** -- ФИО для ручного заполения ведомости в ***cabinet.ssau.ru***"
   ]
  },
  {
   "cell_type": "code",
   "execution_count": 3,
   "id": "46ec0b73-cb9a-4d41-a6a8-0625d6ca69cf",
   "metadata": {
    "pycharm": {
     "name": "#%%\n"
    }
   },
   "outputs": [],
   "source": [
    "# код для формирования списка пар \"отметка присутсвия\" -- ФИО"
   ]
  },
  {
   "cell_type": "code",
   "execution_count": null,
   "id": "abd14969",
   "metadata": {
    "pycharm": {
     "name": "#%%\n"
    }
   },
   "outputs": [],
   "source": []
  }
 ],
 "metadata": {
  "kernelspec": {
   "display_name": "Python 3 (ipykernel)",
   "language": "python",
   "name": "python3"
  },
  "language_info": {
   "codemirror_mode": {
    "name": "ipython",
    "version": 3
   },
   "file_extension": ".py",
   "mimetype": "text/x-python",
   "name": "python",
   "nbconvert_exporter": "python",
   "pygments_lexer": "ipython3",
   "version": "3.10.7"
  }
 },
 "nbformat": 4,
 "nbformat_minor": 5
}